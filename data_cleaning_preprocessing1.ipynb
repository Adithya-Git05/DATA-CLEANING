{
  "nbformat": 4,
  "nbformat_minor": 0,
  "metadata": {
    "colab": {
      "provenance": [],
      "include_colab_link": true
    },
    "kernelspec": {
      "name": "python3",
      "display_name": "Python 3"
    },
    "language_info": {
      "name": "python"
    }
  },
  "cells": [
    {
      "cell_type": "markdown",
      "metadata": {
        "id": "view-in-github",
        "colab_type": "text"
      },
      "source": [
        "<a href=\"https://colab.research.google.com/github/Adithya-Git05/DATA-CLEANING/blob/main/data_cleaning_preprocessing1.ipynb\" target=\"_parent\"><img src=\"https://colab.research.google.com/assets/colab-badge.svg\" alt=\"Open In Colab\"/></a>"
      ]
    },
    {
      "cell_type": "markdown",
      "source": [
        "data set : https://www.kaggle.com/datasets/uciml/pima-indians-diabetes-database"
      ],
      "metadata": {
        "id": "4JVbfGZQ9ORU"
      }
    },
    {
      "cell_type": "code",
      "execution_count": null,
      "metadata": {
        "id": "JeJbhwc87mRB",
        "collapsed": true
      },
      "outputs": [],
      "source": [
        "# prompt: input a csv file\n",
        "\n",
        "from google.colab import files\n",
        "uploaded = files.upload()\n",
        "\n",
        "\n"
      ]
    },
    {
      "cell_type": "markdown",
      "source": [],
      "metadata": {
        "id": "OOExvwFf9O8V"
      }
    },
    {
      "cell_type": "code",
      "source": [
        "# read the csv file\n",
        "import pandas as pd\n",
        "data = pd.read_csv('diabetes.csv')\n",
        "\n",
        "data.head()"
      ],
      "metadata": {
        "id": "7NO9XWYw8bMa"
      },
      "execution_count": null,
      "outputs": []
    },
    {
      "cell_type": "code",
      "source": [
        "data.describe()"
      ],
      "metadata": {
        "id": "QOL-_b6KA14Q"
      },
      "execution_count": null,
      "outputs": []
    },
    {
      "cell_type": "code",
      "source": [
        "len(data['Pregnancies'])"
      ],
      "metadata": {
        "id": "OQQycUurEEeC"
      },
      "execution_count": null,
      "outputs": []
    },
    {
      "cell_type": "code",
      "source": [
        "import pandas as pd\n",
        "import numpy as np\n",
        "import matplotlib.pyplot as plt\n",
        "import seaborn as sns"
      ],
      "metadata": {
        "id": "2dhLO-h68hsT"
      },
      "execution_count": null,
      "outputs": []
    },
    {
      "cell_type": "code",
      "source": [
        "data.hist(bins=20, figsize=(15, 10), color='skyblue', edgecolor='black')\n",
        "plt.suptitle('Feature Distributions Before Preprocessing', fontsize=16)\n",
        "plt.tight_layout()\n",
        "plt.show()"
      ],
      "metadata": {
        "id": "ZS-S-quzCJ8v"
      },
      "execution_count": null,
      "outputs": []
    },
    {
      "cell_type": "code",
      "source": [
        "# Columns where 0 is considered as missing\n",
        "columns_with_zero_as_missing = ['Glucose', 'BloodPressure', 'SkinThickness', 'Insulin', 'BMI']\n",
        "\n",
        "# Replace zeros with NaN for these columns\n",
        "data[columns_with_zero_as_missing] = data[columns_with_zero_as_missing].replace(0, np.nan)\n",
        "\n",
        "# Check for missing values\n",
        "print(data.isnull().sum())\n",
        "data.head()"
      ],
      "metadata": {
        "id": "xhb16sRP_Jel"
      },
      "execution_count": null,
      "outputs": []
    },
    {
      "cell_type": "code",
      "source": [
        "# Fill missing values with median\n",
        "for column in columns_with_zero_as_missing:\n",
        "    data[column].fillna(data[column].median(), inplace=True)\n",
        "\n",
        "# Verify no missing values\n",
        "print(data.isnull().sum())\n"
      ],
      "metadata": {
        "id": "dwIvzVEM_jTe"
      },
      "execution_count": null,
      "outputs": []
    },
    {
      "cell_type": "code",
      "source": [
        "data.head()"
      ],
      "metadata": {
        "collapsed": true,
        "id": "-DiC4B7lADjz"
      },
      "execution_count": null,
      "outputs": []
    },
    {
      "cell_type": "code",
      "source": [
        "from sklearn.preprocessing import MinMaxScaler\n",
        "\n",
        "scaler = MinMaxScaler()\n",
        "numerical_columns = ['Pregnancies', 'Glucose', 'BloodPressure', 'SkinThickness',\n",
        "                     'Insulin', 'BMI', 'DiabetesPedigreeFunction', 'Age']\n",
        "data[numerical_columns] = scaler.fit_transform(data[numerical_columns])\n",
        "\n",
        "# Display normalized data\n",
        "data.head()\n",
        "\n"
      ],
      "metadata": {
        "id": "ZOuNGJleARZl"
      },
      "execution_count": null,
      "outputs": []
    },
    {
      "cell_type": "code",
      "source": [
        "plt.figure(figsize=(10, 8))\n",
        "sns.heatmap(data.corr(), annot=True, cmap='coolwarm')\n",
        "plt.title('Correlation Heatmap')\n",
        "plt.show()\n"
      ],
      "metadata": {
        "collapsed": true,
        "id": "RGzihMJdAX7N"
      },
      "execution_count": null,
      "outputs": []
    },
    {
      "cell_type": "markdown",
      "source": [
        "Seprating data into features and target"
      ],
      "metadata": {
        "id": "huHgACJRGZcr"
      }
    },
    {
      "cell_type": "code",
      "source": [
        "import pandas as pd\n",
        "from sklearn.model_selection import train_test_split\n",
        "from sklearn.linear_model import LinearRegression\n",
        "from sklearn.metrics import mean_squared_error, r2_score\n",
        "\n",
        "# Separate features (X) and target (y)\n",
        "X = data.drop(columns=['Outcome'])  # All columns except 'Outcome'\n",
        "y = data['Outcome']                # Target variable\n",
        "\n"
      ],
      "metadata": {
        "id": "DVfmOO3mAoPh"
      },
      "execution_count": null,
      "outputs": []
    },
    {
      "cell_type": "code",
      "source": [
        "# Split the data into training and testing sets\n",
        "X_train, X_test, y_train, y_test = train_test_split(X, y, test_size=0.2, random_state=42)"
      ],
      "metadata": {
        "id": "V7ndRv5QGk3I"
      },
      "execution_count": null,
      "outputs": []
    },
    {
      "cell_type": "code",
      "source": [
        "# Create and train the Linear Regression model\n",
        "linear_model = LinearRegression()\n",
        "linear_model.fit(X_train, y_train)\n",
        "\n",
        "# Make predictions\n",
        "y_pred_linear = linear_model.predict(X_test)\n",
        "\n",
        "# Evaluate the model\n",
        "mse = mean_squared_error(y_test, y_pred_linear)\n",
        "r2 = r2_score(y_test, y_pred_linear)\n",
        "\n",
        "print(\"Linear Regression Results:\")\n",
        "print(f\"Mean Squared Error: {mse}\")\n",
        "print(f\"R^2 Score: {r2}\")"
      ],
      "metadata": {
        "id": "3W_gDB14Gnov"
      },
      "execution_count": null,
      "outputs": []
    },
    {
      "cell_type": "code",
      "source": [
        "# import matplotlib.pyplot as plt\n",
        "\n",
        "# # Plot Actual vs Predicted for Linear Regression\n",
        "# plt.figure(figsize=(8, 6))\n",
        "# plt.scatter(y_test, y_pred_linear, color='blue', alpha=0.7, label='Linear Regression')\n",
        "# plt.plot([y_test.min(), y_test.max()], [y_test.min(), y_test.max()], 'k--', color='red', label='Ideal Fit')\n",
        "# plt.xlabel('Actual Outcome')\n",
        "# plt.ylabel('Predicted Outcome')\n",
        "# plt.title('Actual vs Predicted (Linear Regression)')\n",
        "# plt.legend()\n",
        "# plt.grid()\n",
        "# plt.show()\n"
      ],
      "metadata": {
        "id": "kneTDk1UHIFk"
      },
      "execution_count": null,
      "outputs": []
    },
    {
      "cell_type": "code",
      "source": [
        "from sklearn.preprocessing import PolynomialFeatures\n",
        "from sklearn.pipeline import make_pipeline\n",
        "\n",
        "# Choose the degree of the polynomial\n",
        "degree = 2  # You can experiment with higher degrees\n",
        "\n",
        "# Create a pipeline for Polynomial Regression\n",
        "poly_model = make_pipeline(PolynomialFeatures(degree), LinearRegression())\n",
        "poly_model.fit(X_train, y_train)\n",
        "\n",
        "# Make predictions\n",
        "y_pred_poly = poly_model.predict(X_test)\n",
        "\n",
        "# Evaluate the model\n",
        "mse_poly = mean_squared_error(y_test, y_pred_poly)\n",
        "r2_poly = r2_score(y_test, y_pred_poly)\n",
        "\n",
        "print(\"\\nPolynomial Regression Results:\")\n",
        "print(f\"Mean Squared Error: {mse_poly}\")\n",
        "print(f\"R^2 Score: {r2_poly}\")\n"
      ],
      "metadata": {
        "id": "MlLpVIKzGsgC"
      },
      "execution_count": null,
      "outputs": []
    },
    {
      "cell_type": "code",
      "source": [],
      "metadata": {
        "id": "11wlF7JyGw_t"
      },
      "execution_count": null,
      "outputs": []
    },
    {
      "cell_type": "code",
      "source": [
        "#0.352941\t0.743719\t0.590164\t0.353535\t0.000000\t0.500745\t0.234415\t0.483333\t1\n",
        "\n",
        "# import numpy as np\n",
        "\n",
        "# # Example single input: replace with your own values\n",
        "# single_input = np.array([[6, 148, 72, 35, 0, 33.6, 0.627, 50]])\n",
        "# # scaler.fit_transform(single_input)\n",
        "# # Prediction using Linear Regression\n",
        "# single_pred_linear = linear_model.predict(single_input)\n",
        "# print(f\"Linear Regression Prediction for Single Input: {single_pred_linear[0]}\")\n",
        "\n",
        "# # Prediction using Polynomial Regression\n",
        "# single_pred_poly = poly_model.predict(single_input)\n",
        "# print(f\"Polynomial Regression Prediction for Single Input: {single_pred_poly[0]}\")"
      ],
      "metadata": {
        "id": "17ppKxSXHhsz"
      },
      "execution_count": null,
      "outputs": []
    },
    {
      "cell_type": "code",
      "source": [],
      "metadata": {
        "id": "xHDRx7PmILv0"
      },
      "execution_count": null,
      "outputs": []
    }
  ]
}